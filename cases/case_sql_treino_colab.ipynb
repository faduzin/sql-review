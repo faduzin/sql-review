{
  "cells": [
    {
      "cell_type": "code",
      "execution_count": null,
      "id": "2fabc216",
      "metadata": {
        "colab": {
          "base_uri": "https://localhost:8080/"
        },
        "id": "2fabc216",
        "outputId": "ead777bb-1c63-4074-9e10-e61ffe7e3dac"
      },
      "outputs": [
        {
          "output_type": "stream",
          "name": "stdout",
          "text": [
            " * sqlite://\n",
            "Done.\n"
          ]
        },
        {
          "output_type": "execute_result",
          "data": {
            "text/plain": [
              "[]"
            ]
          },
          "metadata": {},
          "execution_count": 8
        }
      ],
      "source": [
        "!pip install -q ipython-sql prettytable\n",
        "\n",
        "import prettytable\n",
        "prettytable.__dict__[\"DEFAULT\"] = prettytable.PLAIN_COLUMNS\n",
        "\n",
        "%reload_ext sql\n",
        "%sql sqlite://\n",
        "%sql PRAGMA foreign_keys = ON;"
      ]
    },
    {
      "cell_type": "code",
      "execution_count": null,
      "id": "e8cd3ae9",
      "metadata": {
        "colab": {
          "base_uri": "https://localhost:8080/"
        },
        "id": "e8cd3ae9",
        "outputId": "0bfebe63-289f-4136-b427-8a74d8f443b5"
      },
      "outputs": [
        {
          "output_type": "stream",
          "name": "stdout",
          "text": [
            " * sqlite://\n",
            "Done.\n",
            "5 rows affected.\n"
          ]
        },
        {
          "output_type": "execute_result",
          "data": {
            "text/plain": [
              "[]"
            ]
          },
          "metadata": {},
          "execution_count": 2
        }
      ],
      "source": [
        "%%sql\n",
        "\n",
        "CREATE TABLE clientes (\n",
        "    id INTEGER PRIMARY KEY,\n",
        "    nome TEXT,\n",
        "    cidade TEXT,\n",
        "    idade INTEGER\n",
        ");\n",
        "\n",
        "INSERT INTO clientes (id, nome, cidade, idade) VALUES\n",
        "(1, 'Ana', 'São Paulo', 28),\n",
        "(2, 'Bruno', 'Rio de Janeiro', 34),\n",
        "(3, 'Carlos', 'Belo Horizonte', 22),\n",
        "(4, 'Daniela', 'São Paulo', 41),\n",
        "(5, 'Eduarda', 'Curitiba', 25);\n",
        "\n"
      ]
    },
    {
      "cell_type": "code",
      "source": [
        "%%sql\n",
        "\n",
        "CREATE TABLE produtos (\n",
        "  id INTEGER PRIMARY KEY,\n",
        "  nome TEXT,\n",
        "  categoria TEXT,\n",
        "  preco NUMERIC\n",
        ");\n",
        "\n",
        "INSERT INTO produtos (id, nome, categoria, preco) VALUES\n",
        "(1 , 'Notebook', 'Eletrônicos', 3000.0),\n",
        "(2, 'Celular', 'Eletrônicos', 2000.0),\n",
        "(3, 'Fone de Ouvido', 'Acessórios', 200.0),\n",
        "(4, 'Monitor', 'Eletrônicos', 1000.0);"
      ],
      "metadata": {
        "colab": {
          "base_uri": "https://localhost:8080/"
        },
        "id": "-BhiU6H1Zv67",
        "outputId": "f95c7746-bbed-4c62-c70a-5bea3dfe25ac"
      },
      "id": "-BhiU6H1Zv67",
      "execution_count": null,
      "outputs": [
        {
          "output_type": "stream",
          "name": "stdout",
          "text": [
            " * sqlite://\n",
            "Done.\n",
            "4 rows affected.\n"
          ]
        },
        {
          "output_type": "execute_result",
          "data": {
            "text/plain": [
              "[]"
            ]
          },
          "metadata": {},
          "execution_count": 3
        }
      ]
    },
    {
      "cell_type": "code",
      "source": [
        "%%sql\n",
        "\n",
        "CREATE TABLE pedidos (\n",
        "  id INTEGER PRIMARY KEY,\n",
        "  cliente_id INTEGER,\n",
        "  produto_id INTEGER,\n",
        "  data_pedido DATE,\n",
        "  quantidade INTEGER,\n",
        "  FOREIGN KEY (cliente_id) REFERENCES clientes(id),\n",
        "  FOREIGN KEY (produto_id) REFERENCES produtos(id)\n",
        ");\n",
        "\n",
        "INSERT INTO pedidos (id, cliente_id, produto_id, data_pedido, quantidade) VALUES\n",
        "(1, 1, 1, '2023-01-10', 1),\n",
        "(2, 2, 2, '2023-01-15', 2),\n",
        "(3, 1, 3, '2023-02-01', 1),\n",
        "(4, 3, 1, '2023-02-10', 1),\n",
        "(5, 2, 3, '2023-03-05', 3),\n",
        "(6, 4, 4, '2023-03-15', 1),\n",
        "(7, 1, 2, '2023-03-20', 1);\n",
        "\n",
        "\n"
      ],
      "metadata": {
        "colab": {
          "base_uri": "https://localhost:8080/"
        },
        "id": "0eB3E92VbMLM",
        "outputId": "196de36f-9d7a-49f4-8a42-cdf8f6fb452b"
      },
      "id": "0eB3E92VbMLM",
      "execution_count": null,
      "outputs": [
        {
          "output_type": "stream",
          "name": "stdout",
          "text": [
            " * sqlite://\n",
            "Done.\n",
            "7 rows affected.\n"
          ]
        },
        {
          "output_type": "execute_result",
          "data": {
            "text/plain": [
              "[]"
            ]
          },
          "metadata": {},
          "execution_count": 4
        }
      ]
    },
    {
      "cell_type": "code",
      "source": [
        "%%sql\n",
        "SELECT name FROM sqlite_master\n",
        "WHERE type = 'table';"
      ],
      "metadata": {
        "colab": {
          "base_uri": "https://localhost:8080/",
          "height": 139
        },
        "id": "jYbArlqkdyu0",
        "outputId": "35011b22-76cd-440a-dbb2-6985a3dbd6e7"
      },
      "id": "jYbArlqkdyu0",
      "execution_count": null,
      "outputs": [
        {
          "output_type": "stream",
          "name": "stdout",
          "text": [
            " * sqlite://\n",
            "Done.\n"
          ]
        },
        {
          "output_type": "execute_result",
          "data": {
            "text/plain": [
              "[('clientes',), ('produtos',), ('pedidos',)]"
            ],
            "text/html": [
              "<table>\n",
              "    <thead>\n",
              "        <tr>\n",
              "            <th>name</th>\n",
              "        </tr>\n",
              "    </thead>\n",
              "    <tbody>\n",
              "        <tr>\n",
              "            <td>clientes</td>\n",
              "        </tr>\n",
              "        <tr>\n",
              "            <td>produtos</td>\n",
              "        </tr>\n",
              "        <tr>\n",
              "            <td>pedidos</td>\n",
              "        </tr>\n",
              "    </tbody>\n",
              "</table>"
            ]
          },
          "metadata": {},
          "execution_count": 10
        }
      ]
    },
    {
      "cell_type": "code",
      "source": [
        "%%sql PRAGMA table_info(clientes);"
      ],
      "metadata": {
        "colab": {
          "base_uri": "https://localhost:8080/",
          "height": 161
        },
        "id": "_x_5HduDgxiD",
        "outputId": "4c510de6-59a3-4fa6-eeec-bdad8543932a"
      },
      "id": "_x_5HduDgxiD",
      "execution_count": null,
      "outputs": [
        {
          "output_type": "stream",
          "name": "stdout",
          "text": [
            " * sqlite://\n",
            "Done.\n"
          ]
        },
        {
          "output_type": "execute_result",
          "data": {
            "text/plain": [
              "[(0, 'id', 'INTEGER', 0, None, 1),\n",
              " (1, 'nome', 'TEXT', 0, None, 0),\n",
              " (2, 'cidade', 'TEXT', 0, None, 0),\n",
              " (3, 'idade', 'INTEGER', 0, None, 0)]"
            ],
            "text/html": [
              "<table>\n",
              "    <thead>\n",
              "        <tr>\n",
              "            <th>cid</th>\n",
              "            <th>name</th>\n",
              "            <th>type</th>\n",
              "            <th>notnull</th>\n",
              "            <th>dflt_value</th>\n",
              "            <th>pk</th>\n",
              "        </tr>\n",
              "    </thead>\n",
              "    <tbody>\n",
              "        <tr>\n",
              "            <td>0</td>\n",
              "            <td>id</td>\n",
              "            <td>INTEGER</td>\n",
              "            <td>0</td>\n",
              "            <td>None</td>\n",
              "            <td>1</td>\n",
              "        </tr>\n",
              "        <tr>\n",
              "            <td>1</td>\n",
              "            <td>nome</td>\n",
              "            <td>TEXT</td>\n",
              "            <td>0</td>\n",
              "            <td>None</td>\n",
              "            <td>0</td>\n",
              "        </tr>\n",
              "        <tr>\n",
              "            <td>2</td>\n",
              "            <td>cidade</td>\n",
              "            <td>TEXT</td>\n",
              "            <td>0</td>\n",
              "            <td>None</td>\n",
              "            <td>0</td>\n",
              "        </tr>\n",
              "        <tr>\n",
              "            <td>3</td>\n",
              "            <td>idade</td>\n",
              "            <td>INTEGER</td>\n",
              "            <td>0</td>\n",
              "            <td>None</td>\n",
              "            <td>0</td>\n",
              "        </tr>\n",
              "    </tbody>\n",
              "</table>"
            ]
          },
          "metadata": {},
          "execution_count": 11
        }
      ]
    },
    {
      "cell_type": "code",
      "source": [
        "%%sql PRAGMA table_info(produtos)"
      ],
      "metadata": {
        "colab": {
          "base_uri": "https://localhost:8080/",
          "height": 161
        },
        "id": "7kk7JAHwg-aR",
        "outputId": "8650f2c4-4d68-4872-e303-bb3b5eda8b78"
      },
      "id": "7kk7JAHwg-aR",
      "execution_count": null,
      "outputs": [
        {
          "output_type": "stream",
          "name": "stdout",
          "text": [
            " * sqlite://\n",
            "Done.\n"
          ]
        },
        {
          "output_type": "execute_result",
          "data": {
            "text/plain": [
              "[(0, 'id', 'INTEGER', 0, None, 1),\n",
              " (1, 'nome', 'TEXT', 0, None, 0),\n",
              " (2, 'categoria', 'TEXT', 0, None, 0),\n",
              " (3, 'preco', 'NUMERIC', 0, None, 0)]"
            ],
            "text/html": [
              "<table>\n",
              "    <thead>\n",
              "        <tr>\n",
              "            <th>cid</th>\n",
              "            <th>name</th>\n",
              "            <th>type</th>\n",
              "            <th>notnull</th>\n",
              "            <th>dflt_value</th>\n",
              "            <th>pk</th>\n",
              "        </tr>\n",
              "    </thead>\n",
              "    <tbody>\n",
              "        <tr>\n",
              "            <td>0</td>\n",
              "            <td>id</td>\n",
              "            <td>INTEGER</td>\n",
              "            <td>0</td>\n",
              "            <td>None</td>\n",
              "            <td>1</td>\n",
              "        </tr>\n",
              "        <tr>\n",
              "            <td>1</td>\n",
              "            <td>nome</td>\n",
              "            <td>TEXT</td>\n",
              "            <td>0</td>\n",
              "            <td>None</td>\n",
              "            <td>0</td>\n",
              "        </tr>\n",
              "        <tr>\n",
              "            <td>2</td>\n",
              "            <td>categoria</td>\n",
              "            <td>TEXT</td>\n",
              "            <td>0</td>\n",
              "            <td>None</td>\n",
              "            <td>0</td>\n",
              "        </tr>\n",
              "        <tr>\n",
              "            <td>3</td>\n",
              "            <td>preco</td>\n",
              "            <td>NUMERIC</td>\n",
              "            <td>0</td>\n",
              "            <td>None</td>\n",
              "            <td>0</td>\n",
              "        </tr>\n",
              "    </tbody>\n",
              "</table>"
            ]
          },
          "metadata": {},
          "execution_count": 12
        }
      ]
    },
    {
      "cell_type": "code",
      "source": [
        "%%sql PRAGMA table_info(pedidos)"
      ],
      "metadata": {
        "colab": {
          "base_uri": "https://localhost:8080/",
          "height": 182
        },
        "id": "pLFQKhAOhCRu",
        "outputId": "d346f424-3c5e-4e8a-a7a9-27d2cd906010"
      },
      "id": "pLFQKhAOhCRu",
      "execution_count": null,
      "outputs": [
        {
          "output_type": "stream",
          "name": "stdout",
          "text": [
            " * sqlite://\n",
            "Done.\n"
          ]
        },
        {
          "output_type": "execute_result",
          "data": {
            "text/plain": [
              "[(0, 'id', 'INTEGER', 0, None, 1),\n",
              " (1, 'cliente_id', 'INTEGER', 0, None, 0),\n",
              " (2, 'produto_id', 'INTEGER', 0, None, 0),\n",
              " (3, 'data_pedido', 'DATE', 0, None, 0),\n",
              " (4, 'quantidade', 'INTEGER', 0, None, 0)]"
            ],
            "text/html": [
              "<table>\n",
              "    <thead>\n",
              "        <tr>\n",
              "            <th>cid</th>\n",
              "            <th>name</th>\n",
              "            <th>type</th>\n",
              "            <th>notnull</th>\n",
              "            <th>dflt_value</th>\n",
              "            <th>pk</th>\n",
              "        </tr>\n",
              "    </thead>\n",
              "    <tbody>\n",
              "        <tr>\n",
              "            <td>0</td>\n",
              "            <td>id</td>\n",
              "            <td>INTEGER</td>\n",
              "            <td>0</td>\n",
              "            <td>None</td>\n",
              "            <td>1</td>\n",
              "        </tr>\n",
              "        <tr>\n",
              "            <td>1</td>\n",
              "            <td>cliente_id</td>\n",
              "            <td>INTEGER</td>\n",
              "            <td>0</td>\n",
              "            <td>None</td>\n",
              "            <td>0</td>\n",
              "        </tr>\n",
              "        <tr>\n",
              "            <td>2</td>\n",
              "            <td>produto_id</td>\n",
              "            <td>INTEGER</td>\n",
              "            <td>0</td>\n",
              "            <td>None</td>\n",
              "            <td>0</td>\n",
              "        </tr>\n",
              "        <tr>\n",
              "            <td>3</td>\n",
              "            <td>data_pedido</td>\n",
              "            <td>DATE</td>\n",
              "            <td>0</td>\n",
              "            <td>None</td>\n",
              "            <td>0</td>\n",
              "        </tr>\n",
              "        <tr>\n",
              "            <td>4</td>\n",
              "            <td>quantidade</td>\n",
              "            <td>INTEGER</td>\n",
              "            <td>0</td>\n",
              "            <td>None</td>\n",
              "            <td>0</td>\n",
              "        </tr>\n",
              "    </tbody>\n",
              "</table>"
            ]
          },
          "metadata": {},
          "execution_count": 13
        }
      ]
    },
    {
      "cell_type": "code",
      "source": [
        "# 1.Liste todos os clientes e suas respectivas cidades.\n",
        "%%sql\n",
        "SELECT\n",
        "  nome,\n",
        "  cidade\n",
        "FROM\n",
        "  clientes;"
      ],
      "metadata": {
        "colab": {
          "base_uri": "https://localhost:8080/",
          "height": 182
        },
        "id": "Dq5IRqXzgbR1",
        "outputId": "a7c7a6f2-ca99-4727-ceec-0e4c292e8908"
      },
      "id": "Dq5IRqXzgbR1",
      "execution_count": null,
      "outputs": [
        {
          "output_type": "stream",
          "name": "stdout",
          "text": [
            " * sqlite://\n",
            "Done.\n"
          ]
        },
        {
          "output_type": "execute_result",
          "data": {
            "text/plain": [
              "[('Ana', 'São Paulo'),\n",
              " ('Bruno', 'Rio de Janeiro'),\n",
              " ('Carlos', 'Belo Horizonte'),\n",
              " ('Daniela', 'São Paulo'),\n",
              " ('Eduarda', 'Curitiba')]"
            ],
            "text/html": [
              "<table>\n",
              "    <thead>\n",
              "        <tr>\n",
              "            <th>nome</th>\n",
              "            <th>cidade</th>\n",
              "        </tr>\n",
              "    </thead>\n",
              "    <tbody>\n",
              "        <tr>\n",
              "            <td>Ana</td>\n",
              "            <td>São Paulo</td>\n",
              "        </tr>\n",
              "        <tr>\n",
              "            <td>Bruno</td>\n",
              "            <td>Rio de Janeiro</td>\n",
              "        </tr>\n",
              "        <tr>\n",
              "            <td>Carlos</td>\n",
              "            <td>Belo Horizonte</td>\n",
              "        </tr>\n",
              "        <tr>\n",
              "            <td>Daniela</td>\n",
              "            <td>São Paulo</td>\n",
              "        </tr>\n",
              "        <tr>\n",
              "            <td>Eduarda</td>\n",
              "            <td>Curitiba</td>\n",
              "        </tr>\n",
              "    </tbody>\n",
              "</table>"
            ]
          },
          "metadata": {},
          "execution_count": 19
        }
      ]
    },
    {
      "cell_type": "code",
      "source": [
        "# 2.Quais clientes fizeram pedidos?\n",
        "%%sql\n",
        "SELECT DISTINCT\n",
        "  c.nome\n",
        "FROM\n",
        "  pedidos AS p LEFT JOIN clientes AS c ON\n",
        "  p.cliente_id = c.id;"
      ],
      "metadata": {
        "colab": {
          "base_uri": "https://localhost:8080/",
          "height": 161
        },
        "id": "QBXM2eyChVFC",
        "outputId": "a7f19b70-c717-4b22-9639-9f111aa55b4b"
      },
      "id": "QBXM2eyChVFC",
      "execution_count": null,
      "outputs": [
        {
          "output_type": "stream",
          "name": "stdout",
          "text": [
            " * sqlite://\n",
            "Done.\n"
          ]
        },
        {
          "output_type": "execute_result",
          "data": {
            "text/plain": [
              "[('Ana',), ('Bruno',), ('Carlos',), ('Daniela',)]"
            ],
            "text/html": [
              "<table>\n",
              "    <thead>\n",
              "        <tr>\n",
              "            <th>nome</th>\n",
              "        </tr>\n",
              "    </thead>\n",
              "    <tbody>\n",
              "        <tr>\n",
              "            <td>Ana</td>\n",
              "        </tr>\n",
              "        <tr>\n",
              "            <td>Bruno</td>\n",
              "        </tr>\n",
              "        <tr>\n",
              "            <td>Carlos</td>\n",
              "        </tr>\n",
              "        <tr>\n",
              "            <td>Daniela</td>\n",
              "        </tr>\n",
              "    </tbody>\n",
              "</table>"
            ]
          },
          "metadata": {},
          "execution_count": 20
        }
      ]
    },
    {
      "cell_type": "code",
      "source": [
        "# 3.Qual foi o total de pedidos por cidade?\n",
        "%%sql\n",
        "SELECT\n",
        "  c.cidade,\n",
        "  COUNT(p.data_pedido) AS quantidade_de_pedidos\n",
        "FROM\n",
        "  clientes AS c LEFT JOIN pedidos AS p ON\n",
        "  p.cliente_id = c.id\n",
        "GROUP BY\n",
        "  c.cidade\n",
        "ORDER BY\n",
        "  quantidade_de_pedidos DESC;"
      ],
      "metadata": {
        "colab": {
          "base_uri": "https://localhost:8080/",
          "height": 161
        },
        "id": "Kfy0LQeYh9nh",
        "outputId": "29311ad9-b4eb-4ea3-adf1-67eddce3c5a6"
      },
      "id": "Kfy0LQeYh9nh",
      "execution_count": null,
      "outputs": [
        {
          "output_type": "stream",
          "name": "stdout",
          "text": [
            " * sqlite://\n",
            "Done.\n"
          ]
        },
        {
          "output_type": "execute_result",
          "data": {
            "text/plain": [
              "[('São Paulo', 4),\n",
              " ('Rio de Janeiro', 2),\n",
              " ('Belo Horizonte', 1),\n",
              " ('Curitiba', 0)]"
            ],
            "text/html": [
              "<table>\n",
              "    <thead>\n",
              "        <tr>\n",
              "            <th>cidade</th>\n",
              "            <th>quantidade_de_pedidos</th>\n",
              "        </tr>\n",
              "    </thead>\n",
              "    <tbody>\n",
              "        <tr>\n",
              "            <td>São Paulo</td>\n",
              "            <td>4</td>\n",
              "        </tr>\n",
              "        <tr>\n",
              "            <td>Rio de Janeiro</td>\n",
              "            <td>2</td>\n",
              "        </tr>\n",
              "        <tr>\n",
              "            <td>Belo Horizonte</td>\n",
              "            <td>1</td>\n",
              "        </tr>\n",
              "        <tr>\n",
              "            <td>Curitiba</td>\n",
              "            <td>0</td>\n",
              "        </tr>\n",
              "    </tbody>\n",
              "</table>"
            ]
          },
          "metadata": {},
          "execution_count": 27
        }
      ]
    },
    {
      "cell_type": "code",
      "source": [
        "# 4.Qual produto teve o maior número de pedidos?\n",
        "%%sql\n",
        "SELECT\n",
        "  pr.nome,\n",
        "  COUNT(pe.data_pedido) AS quantidade_de_pedidos\n",
        "FROM\n",
        "  produtos AS pr LEFT JOIN pedidos AS pe ON\n",
        "  pr.id = pe.produto_id\n",
        "GROUP BY\n",
        "  pr.nome\n",
        "ORDER BY\n",
        "  quantidade_de_pedidos DESC;"
      ],
      "metadata": {
        "colab": {
          "base_uri": "https://localhost:8080/",
          "height": 161
        },
        "id": "6H3gPKwmjJRo",
        "outputId": "4b736f44-fbd1-4517-982f-1b20739e3c6d"
      },
      "id": "6H3gPKwmjJRo",
      "execution_count": null,
      "outputs": [
        {
          "output_type": "stream",
          "name": "stdout",
          "text": [
            " * sqlite://\n",
            "Done.\n"
          ]
        },
        {
          "output_type": "execute_result",
          "data": {
            "text/plain": [
              "[('Notebook', 2), ('Fone de Ouvido', 2), ('Celular', 2), ('Monitor', 1)]"
            ],
            "text/html": [
              "<table>\n",
              "    <thead>\n",
              "        <tr>\n",
              "            <th>nome</th>\n",
              "            <th>quantidade_de_pedidos</th>\n",
              "        </tr>\n",
              "    </thead>\n",
              "    <tbody>\n",
              "        <tr>\n",
              "            <td>Notebook</td>\n",
              "            <td>2</td>\n",
              "        </tr>\n",
              "        <tr>\n",
              "            <td>Fone de Ouvido</td>\n",
              "            <td>2</td>\n",
              "        </tr>\n",
              "        <tr>\n",
              "            <td>Celular</td>\n",
              "            <td>2</td>\n",
              "        </tr>\n",
              "        <tr>\n",
              "            <td>Monitor</td>\n",
              "            <td>1</td>\n",
              "        </tr>\n",
              "    </tbody>\n",
              "</table>"
            ]
          },
          "metadata": {},
          "execution_count": 28
        }
      ]
    },
    {
      "cell_type": "code",
      "source": [
        "# 5.Qual cliente gastou mais dinheiro no total?\n",
        "%%sql\n",
        "SELECT\n",
        "  c.nome,\n",
        "  SUM(pr.preco) AS valor_total\n",
        "FROM\n",
        "  clientes AS c LEFT JOIN pedidos AS pe ON\n",
        "  c.id = pe.cliente_id LEFT JOIN produtos AS pr ON\n",
        "  pe.produto_id = pr.id\n",
        "GROUP BY\n",
        "  c.nome\n",
        "ORDER BY\n",
        "  valor_total DESC;"
      ],
      "metadata": {
        "colab": {
          "base_uri": "https://localhost:8080/",
          "height": 182
        },
        "id": "7f_pth3LkeGr",
        "outputId": "e9fda685-6fbf-495e-c92f-6488d02d4f33"
      },
      "id": "7f_pth3LkeGr",
      "execution_count": null,
      "outputs": [
        {
          "output_type": "stream",
          "name": "stdout",
          "text": [
            " * sqlite://\n",
            "Done.\n"
          ]
        },
        {
          "output_type": "execute_result",
          "data": {
            "text/plain": [
              "[('Ana', 5200),\n",
              " ('Carlos', 3000),\n",
              " ('Bruno', 2200),\n",
              " ('Daniela', 1000),\n",
              " ('Eduarda', None)]"
            ],
            "text/html": [
              "<table>\n",
              "    <thead>\n",
              "        <tr>\n",
              "            <th>nome</th>\n",
              "            <th>valor_total</th>\n",
              "        </tr>\n",
              "    </thead>\n",
              "    <tbody>\n",
              "        <tr>\n",
              "            <td>Ana</td>\n",
              "            <td>5200</td>\n",
              "        </tr>\n",
              "        <tr>\n",
              "            <td>Carlos</td>\n",
              "            <td>3000</td>\n",
              "        </tr>\n",
              "        <tr>\n",
              "            <td>Bruno</td>\n",
              "            <td>2200</td>\n",
              "        </tr>\n",
              "        <tr>\n",
              "            <td>Daniela</td>\n",
              "            <td>1000</td>\n",
              "        </tr>\n",
              "        <tr>\n",
              "            <td>Eduarda</td>\n",
              "            <td>None</td>\n",
              "        </tr>\n",
              "    </tbody>\n",
              "</table>"
            ]
          },
          "metadata": {},
          "execution_count": 31
        }
      ]
    },
    {
      "cell_type": "code",
      "source": [
        "# 6.Média de idade dos clientes por cidade.\n",
        "%%sql\n",
        "SELECT\n",
        "  cidade,\n",
        "  AVG(idade) AS media_de_idade\n",
        "FROM\n",
        "  clientes\n",
        "GROUP BY\n",
        "  cidade\n",
        "ORDER BY\n",
        "  media_de_idade DESC;"
      ],
      "metadata": {
        "colab": {
          "base_uri": "https://localhost:8080/",
          "height": 161
        },
        "id": "7c3AKQMymdCF",
        "outputId": "92ef13eb-228d-4df5-9ec3-64f80c03c6e1"
      },
      "id": "7c3AKQMymdCF",
      "execution_count": null,
      "outputs": [
        {
          "output_type": "stream",
          "name": "stdout",
          "text": [
            " * sqlite://\n",
            "Done.\n"
          ]
        },
        {
          "output_type": "execute_result",
          "data": {
            "text/plain": [
              "[('São Paulo', 34.5),\n",
              " ('Rio de Janeiro', 34.0),\n",
              " ('Curitiba', 25.0),\n",
              " ('Belo Horizonte', 22.0)]"
            ],
            "text/html": [
              "<table>\n",
              "    <thead>\n",
              "        <tr>\n",
              "            <th>cidade</th>\n",
              "            <th>media_de_idade</th>\n",
              "        </tr>\n",
              "    </thead>\n",
              "    <tbody>\n",
              "        <tr>\n",
              "            <td>São Paulo</td>\n",
              "            <td>34.5</td>\n",
              "        </tr>\n",
              "        <tr>\n",
              "            <td>Rio de Janeiro</td>\n",
              "            <td>34.0</td>\n",
              "        </tr>\n",
              "        <tr>\n",
              "            <td>Curitiba</td>\n",
              "            <td>25.0</td>\n",
              "        </tr>\n",
              "        <tr>\n",
              "            <td>Belo Horizonte</td>\n",
              "            <td>22.0</td>\n",
              "        </tr>\n",
              "    </tbody>\n",
              "</table>"
            ]
          },
          "metadata": {},
          "execution_count": 34
        }
      ]
    },
    {
      "cell_type": "code",
      "source": [
        "# 7.Liste os 5 produtos mais vendidos em quantidade.\n",
        "%%sql\n",
        "SELECT\n",
        "  pr.nome,\n",
        "  COUNT(pe.data_pedido) AS quantidade_de_pedidos\n",
        "FROM\n",
        "  produtos AS pr LEFT JOIN pedidos AS pe ON\n",
        "  pr.id = pe.produto_id\n",
        "GROUP BY\n",
        "  pr.nome\n",
        "ORDER BY\n",
        "  quantidade_de_pedidos DESC;"
      ],
      "metadata": {
        "colab": {
          "base_uri": "https://localhost:8080/",
          "height": 161
        },
        "id": "jAkB7S-qpsuv",
        "outputId": "2e48b26b-69b6-465c-b666-2ceff05b9fac"
      },
      "id": "jAkB7S-qpsuv",
      "execution_count": null,
      "outputs": [
        {
          "output_type": "stream",
          "name": "stdout",
          "text": [
            " * sqlite://\n",
            "Done.\n"
          ]
        },
        {
          "output_type": "execute_result",
          "data": {
            "text/plain": [
              "[('Notebook', 2), ('Fone de Ouvido', 2), ('Celular', 2), ('Monitor', 1)]"
            ],
            "text/html": [
              "<table>\n",
              "    <thead>\n",
              "        <tr>\n",
              "            <th>nome</th>\n",
              "            <th>quantidade_de_pedidos</th>\n",
              "        </tr>\n",
              "    </thead>\n",
              "    <tbody>\n",
              "        <tr>\n",
              "            <td>Notebook</td>\n",
              "            <td>2</td>\n",
              "        </tr>\n",
              "        <tr>\n",
              "            <td>Fone de Ouvido</td>\n",
              "            <td>2</td>\n",
              "        </tr>\n",
              "        <tr>\n",
              "            <td>Celular</td>\n",
              "            <td>2</td>\n",
              "        </tr>\n",
              "        <tr>\n",
              "            <td>Monitor</td>\n",
              "            <td>1</td>\n",
              "        </tr>\n",
              "    </tbody>\n",
              "</table>"
            ]
          },
          "metadata": {},
          "execution_count": 35
        }
      ]
    },
    {
      "cell_type": "code",
      "source": [
        "# 8.Fature por categoria de produto.\n",
        "%%sql\n",
        "SELECT\n",
        "  pr.categoria,\n",
        "  pr.preco * COUNT(data_pedido) AS total_categoria\n",
        "FROM\n",
        "  produtos AS pr LEFT JOIN pedidos AS pe ON\n",
        "  pr.id = pe.produto_id\n",
        "GROUP BY\n",
        "  pr.categoria\n",
        "ORDER BY\n",
        "  total_categoria DESC;"
      ],
      "metadata": {
        "colab": {
          "base_uri": "https://localhost:8080/",
          "height": 118
        },
        "id": "pojwX6XlqZVV",
        "outputId": "16564d02-87f8-422e-932b-0f896c7eaa7f"
      },
      "id": "pojwX6XlqZVV",
      "execution_count": null,
      "outputs": [
        {
          "output_type": "stream",
          "name": "stdout",
          "text": [
            " * sqlite://\n",
            "Done.\n"
          ]
        },
        {
          "output_type": "execute_result",
          "data": {
            "text/plain": [
              "[('Eletrônicos', 15000), ('Acessórios', 400)]"
            ],
            "text/html": [
              "<table>\n",
              "    <thead>\n",
              "        <tr>\n",
              "            <th>categoria</th>\n",
              "            <th>total_categoria</th>\n",
              "        </tr>\n",
              "    </thead>\n",
              "    <tbody>\n",
              "        <tr>\n",
              "            <td>Eletrônicos</td>\n",
              "            <td>15000</td>\n",
              "        </tr>\n",
              "        <tr>\n",
              "            <td>Acessórios</td>\n",
              "            <td>400</td>\n",
              "        </tr>\n",
              "    </tbody>\n",
              "</table>"
            ]
          },
          "metadata": {},
          "execution_count": 37
        }
      ]
    },
    {
      "cell_type": "code",
      "source": [
        "# 9.Clientes que nunca compraram nada.\n",
        "%%sql\n",
        "SELECT\n",
        "  nome\n",
        "FROM\n",
        "  clientes\n",
        "WHERE\n",
        "  nome NOT IN (SELECT\n",
        "                  nome\n",
        "              FROM\n",
        "                pedidos AS pe LEFT JOIN clientes AS c ON\n",
        "                pe.cliente_id = c.id);"
      ],
      "metadata": {
        "colab": {
          "base_uri": "https://localhost:8080/",
          "height": 96
        },
        "id": "ueDZ_p2btVyh",
        "outputId": "0dad7113-7118-4d98-9ad3-0426cad06c92"
      },
      "id": "ueDZ_p2btVyh",
      "execution_count": null,
      "outputs": [
        {
          "output_type": "stream",
          "name": "stdout",
          "text": [
            " * sqlite://\n",
            "Done.\n"
          ]
        },
        {
          "output_type": "execute_result",
          "data": {
            "text/plain": [
              "[('Eduarda',)]"
            ],
            "text/html": [
              "<table>\n",
              "    <thead>\n",
              "        <tr>\n",
              "            <th>nome</th>\n",
              "        </tr>\n",
              "    </thead>\n",
              "    <tbody>\n",
              "        <tr>\n",
              "            <td>Eduarda</td>\n",
              "        </tr>\n",
              "    </tbody>\n",
              "</table>"
            ]
          },
          "metadata": {},
          "execution_count": 38
        }
      ]
    },
    {
      "cell_type": "code",
      "source": [
        "# 10.Total de vendas por mês (use strftime('%Y-%m', data_pedido)).\n",
        "%%sql\n",
        "SELECT\n",
        "  strftime('%Y-%m', data_pedido) AS ano_mes,\n",
        "  SUM(pr.preco) AS total\n",
        "FROM\n",
        "  pedidos AS pe LEFT JOIN produtos AS pr ON\n",
        "  pe.produto_id = pr.id\n",
        "GROUP BY\n",
        "  strftime('%Y-%m', data_pedido)\n",
        "ORDER BY\n",
        "  total DESC;"
      ],
      "metadata": {
        "colab": {
          "base_uri": "https://localhost:8080/",
          "height": 139
        },
        "id": "2U1NetieuIsp",
        "outputId": "03030c09-40e1-412f-dbf9-b112b249b88f"
      },
      "id": "2U1NetieuIsp",
      "execution_count": null,
      "outputs": [
        {
          "output_type": "stream",
          "name": "stdout",
          "text": [
            " * sqlite://\n",
            "Done.\n"
          ]
        },
        {
          "output_type": "execute_result",
          "data": {
            "text/plain": [
              "[('2023-01', 5000), ('2023-03', 3200), ('2023-02', 3200)]"
            ],
            "text/html": [
              "<table>\n",
              "    <thead>\n",
              "        <tr>\n",
              "            <th>ano_mes</th>\n",
              "            <th>total</th>\n",
              "        </tr>\n",
              "    </thead>\n",
              "    <tbody>\n",
              "        <tr>\n",
              "            <td>2023-01</td>\n",
              "            <td>5000</td>\n",
              "        </tr>\n",
              "        <tr>\n",
              "            <td>2023-03</td>\n",
              "            <td>3200</td>\n",
              "        </tr>\n",
              "        <tr>\n",
              "            <td>2023-02</td>\n",
              "            <td>3200</td>\n",
              "        </tr>\n",
              "    </tbody>\n",
              "</table>"
            ]
          },
          "metadata": {},
          "execution_count": 42
        }
      ]
    },
    {
      "cell_type": "markdown",
      "id": "aff20241",
      "metadata": {
        "id": "aff20241"
      },
      "source": [
        "## 🧠 Desafios Propostos (Treine suas habilidades SQL)\n",
        "\n",
        "1. Liste todos os clientes e suas respectivas cidades.  \n",
        "2. Quais clientes fizeram pedidos?  \n",
        "3. Qual foi o total de pedidos por cidade?  \n",
        "4. Qual produto teve o maior número de pedidos?  \n",
        "5. Qual cliente gastou mais dinheiro no total?  \n",
        "6. Média de idade dos clientes por cidade.  \n",
        "7. Liste os 5 produtos mais vendidos em quantidade.  \n",
        "8. Fature por categoria de produto.  \n",
        "9. Clientes que nunca compraram nada.  \n",
        "10. Total de vendas por mês (use `strftime('%Y-%m', data_pedido)`).\n"
      ]
    }
  ],
  "metadata": {
    "colab": {
      "provenance": []
    },
    "language_info": {
      "name": "python"
    },
    "kernelspec": {
      "name": "python3",
      "display_name": "Python 3"
    }
  },
  "nbformat": 4,
  "nbformat_minor": 5
}